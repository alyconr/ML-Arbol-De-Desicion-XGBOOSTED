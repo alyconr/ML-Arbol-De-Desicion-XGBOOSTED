{
 "cells": [
  {
   "cell_type": "markdown",
   "metadata": {},
   "source": [
    "# 1. Librerías"
   ]
  },
  {
   "cell_type": "code",
   "execution_count": 24,
   "metadata": {},
   "outputs": [],
   "source": [
    "#Utilitario para construir modelos de Machine Learning y Deep Learning\n",
    "import sagemaker\n",
    "\n",
    "#Importamos el utilitario para definir el entrenador del algoritmo\n",
    "from sagemaker.estimator import Estimator\n",
    "\n",
    "#Librería para manipular los servicios de AWS\n",
    "import boto3"
   ]
  },
  {
   "cell_type": "markdown",
   "metadata": {},
   "source": [
    "# 2. Inicio de Sesión sobre SageMaker"
   ]
  },
  {
   "cell_type": "code",
   "execution_count": 26,
   "metadata": {},
   "outputs": [
    {
     "name": "stdout",
     "output_type": "stream",
     "text": [
      "us-east-1\n"
     ]
    }
   ],
   "source": [
    "#Iniciamos sesión en el servicio de SageMaker\n",
    "sesion = sagemaker.Session()\n",
    "\n",
    "#Obtenemos la ejecución en donde estamos trabajando\n",
    "region = sesion.boto_region_name\n",
    "\n",
    "#Verificamos\n",
    "print(region)\n",
    "\n",
    "#Obtenemos el rol de ejecución de SageMaker\n",
    "#El rol de ejecución permite a SageMaker usar otros servicios de AWS\n",
    "rol = sagemaker.get_execution_role()"
   ]
  },
  {
   "cell_type": "markdown",
   "metadata": {},
   "source": [
    "# 3. Lectura de archivos"
   ]
  },
  {
   "cell_type": "code",
   "execution_count": 27,
   "metadata": {},
   "outputs": [],
   "source": [
    "#Utilitario para leer archivos de datos\n",
    "from sagemaker.inputs import TrainingInput\n",
    "\n",
    "#Bucket en donde se encuentran los archivos\n",
    "#IMPORTANTE: REEMPLAZAR \"XXX\" POR TUS INICIALES\n",
    "bucket = \"datasetsbdajac\"\n",
    "\n",
    "#Lectura de datos de entrenamiento\n",
    "dataTrain = TrainingInput(\n",
    "    f\"s3://{bucket}/data/bodyperformance_dataset_validacion_cruzada/vc3/train\", #Ruta del archivo\n",
    "    content_type = \"text/csv\", #Formato del archivo\n",
    "    distribution = \"FullyReplicated\", #El archivo será copiado en todos los servidores\n",
    "    s3_data_type = \"S3Prefix\", #Desde donde se lee el archivo (S3)\n",
    "    input_mode = \"File\", #Los registros se encuentran dentro de archivos\n",
    "    record_wrapping = \"None\" #Envoltorio de optimización\n",
    ")\n",
    "\n",
    "#Lectura de datos de validación\n",
    "dataTest = TrainingInput(\n",
    "    f\"s3://{bucket}/data/bodyperformance_dataset_validacion_cruzada/vc3/test\", #Ruta del archivo\n",
    "    content_type = \"text/csv\", #Formato del archivo\n",
    "    distribution = \"FullyReplicated\", #El archivo será copiado en todos los servidores\n",
    "    s3_data_type = \"S3Prefix\", #Desde donde se lee el archivo (S3)\n",
    "    input_mode = \"File\", #Los registros se encuentran dentro de archivos\n",
    "    record_wrapping = \"None\" #Envoltorio de optimización\n",
    ")"
   ]
  },
  {
   "cell_type": "markdown",
   "metadata": {},
   "source": [
    "# 4. Configuración del Algoritmo"
   ]
  },
  {
   "cell_type": "code",
   "execution_count": 28,
   "metadata": {},
   "outputs": [],
   "source": [
    "#Definimos el entrenador del algoritmo\n",
    "entrenador = Estimator(\n",
    "    image_uri = sagemaker.image_uris.retrieve(\"xgboost\", region, version = \"latest\"), #Descargamos la implementación del algoritmo desde la región donde trabajamos\n",
    "    role = rol, #Rol que ejecuta servicios sobre AWS\n",
    "    instance_count = 1, #Cantidad de servidores de entrenamiento\n",
    "    instance_type = \"ml.m5.large\", #Tipo de servidor de entrenamiento\n",
    "    predictor_type = \"classifier\", #Tipo de predicción del algoritmo\n",
    "    sagemaker_session = sesion, #Sesión de SageMaker\n",
    "    base_job_name = \"entrenamiento-prediccion-categorica\", #Nombre del job de entrenamiento\n",
    "    num_classes = 4 #Número de categorías en el label\n",
    ")"
   ]
  },
  {
   "cell_type": "code",
   "execution_count": 29,
   "metadata": {},
   "outputs": [],
   "source": [
    "#Configuramos los parametros del algoritmo\n",
    "entrenador.set_hyperparameters(\n",
    "    feature_dim = 12, #Cantidad de features\n",
    "    predictor_type = \"classifier\", #Indicamos que tipo de predicción es\n",
    "    normalize_data = \"true\", #Normalizamos los features\n",
    "    normalize_label = \"false\", #NO Normalizamos el label\n",
    "    num_round = 100, #Número de árboles generados\n",
    "    max_depth = 7, #Profundidad máxima del arbol\n",
    "    colsample_bytree = 0.95 #Porcentaje de registros validos para generalizar\n",
    ")"
   ]
  },
  {
   "cell_type": "markdown",
   "metadata": {},
   "source": [
    "# 5. Definición de Hiper-Parámetros"
   ]
  },
  {
   "cell_type": "code",
   "execution_count": 32,
   "metadata": {},
   "outputs": [],
   "source": [
    "#Utilitario para definir rangos de hyper-parámetros que pueden tomar valores continuos\n",
    "from sagemaker.tuner import CategoricalParameter"
   ]
  },
  {
   "cell_type": "code",
   "execution_count": 31,
   "metadata": {},
   "outputs": [],
   "source": [
    "#Definimos los hyper-parámetros del modelo\n",
    "hyperparametros = {\n",
    "    \"eta\": CategoricalParameter([0.025, 0.05, 0.1, 0.2, 0.4]) #Ratio de aprendizaje\n",
    "}"
   ]
  },
  {
   "cell_type": "code",
   "execution_count": 33,
   "metadata": {},
   "outputs": [],
   "source": [
    "#Utilitario para crear la malla de hyper-parametrización\n",
    "from sagemaker.tuner import HyperparameterTuner"
   ]
  },
  {
   "cell_type": "code",
   "execution_count": 34,
   "metadata": {},
   "outputs": [],
   "source": [
    "#Creamos la malla de hyper-parametrización\n",
    "mallaDeHyperParametros = HyperparameterTuner(\n",
    "    entrenador, #Entrenador del algoritmo\n",
    "    \"validation:rmse\", #Métrica para elegir el mejor modelo\n",
    "    hyperparametros, #Hyper-parámetros definidos\n",
    "    objective_type = \"Minimize\", #Elegimos el modelo con el mayor valor de accuracy\n",
    "    max_jobs = 5, #Cantidad de procesos de entrenamiento.\n",
    "    max_parallel_jobs = 5 #Cantidad de procesos de entrenamiento en paralelo\n",
    ")"
   ]
  },
  {
   "cell_type": "markdown",
   "metadata": {},
   "source": [
    "# 6. Entrenamiento del Modelo"
   ]
  },
  {
   "cell_type": "code",
   "execution_count": 35,
   "metadata": {},
   "outputs": [
    {
     "name": "stderr",
     "output_type": "stream",
     "text": [
      "No finished training job found associated with this estimator. Please make sure this estimator is only used for building workflow config\n",
      "No finished training job found associated with this estimator. Please make sure this estimator is only used for building workflow config\n"
     ]
    },
    {
     "name": "stdout",
     "output_type": "stream",
     "text": [
      "...................................!\n"
     ]
    }
   ],
   "source": [
    "#Ejecutamos la malla de hyper-parametrización\n",
    "#TIEMPO: 5 MINUTOS\n",
    "mallaDeHyperParametros.fit(inputs = {\"train\": dataTrain, \"validation\": dataTest})"
   ]
  },
  {
   "cell_type": "markdown",
   "metadata": {},
   "source": [
    "# 7. Selección del mejor modelo"
   ]
  },
  {
   "cell_type": "code",
   "execution_count": 36,
   "metadata": {},
   "outputs": [
    {
     "name": "stdout",
     "output_type": "stream",
     "text": [
      "xgboost-240930-2321-003-38468009\n"
     ]
    }
   ],
   "source": [
    "#Librería de AWS\n",
    "import boto3\n",
    "\n",
    "#Nos conectamos al servicio de SageMaker\n",
    "sagemakerCliente = boto3.client(\"sagemaker\")\n",
    "\n",
    "#Obtenemos el mejor modelo entrenado (el del menor error)\n",
    "nombreDelMejorModelo = mallaDeHyperParametros.best_training_job()\n",
    "\n",
    "#Verificamos\n",
    "print(nombreDelMejorModelo)"
   ]
  },
  {
   "cell_type": "markdown",
   "metadata": {},
   "source": [
    "# 8. Estadísticas del Modelo"
   ]
  },
  {
   "cell_type": "code",
   "execution_count": 38,
   "metadata": {},
   "outputs": [
    {
     "data": {
      "text/plain": [
       "[{'MetricName': 'train:rmse',\n",
       "  'Value': 0.39054998755455017,\n",
       "  'Timestamp': datetime.datetime(2024, 9, 30, 23, 23, 43, tzinfo=tzlocal())},\n",
       " {'MetricName': 'validation:rmse',\n",
       "  'Value': 0.5395089983940125,\n",
       "  'Timestamp': datetime.datetime(2024, 9, 30, 23, 23, 43, tzinfo=tzlocal())},\n",
       " {'MetricName': 'ObjectiveMetric',\n",
       "  'Value': 0.5395089983940125,\n",
       "  'Timestamp': datetime.datetime(2024, 9, 30, 23, 23, 43, tzinfo=tzlocal())}]"
      ]
     },
     "execution_count": 38,
     "metadata": {},
     "output_type": "execute_result"
    }
   ],
   "source": [
    "#Obtenemos la descripción del entrenamiento\n",
    "descripcionDeEntrenamiento = sagemakerCliente.describe_training_job(TrainingJobName = nombreDelMejorModelo)\n",
    "\n",
    "#Dentro de la sub-variable \"FinalMetricDataList\" tenemos las métricas del modelo\n",
    "descripcionDeEntrenamiento[\"FinalMetricDataList\"]"
   ]
  },
  {
   "cell_type": "code",
   "execution_count": 39,
   "metadata": {},
   "outputs": [
    {
     "name": "stdout",
     "output_type": "stream",
     "text": [
      "0.5395089983940125\n"
     ]
    }
   ],
   "source": [
    "#Imprimimos sólo la métrica de nuestro interés\n",
    "for metrica in descripcionDeEntrenamiento[\"FinalMetricDataList\"]:\n",
    "    if metrica[\"MetricName\"] == \"validation:rmse\":\n",
    "        print(metrica[\"Value\"])"
   ]
  },
  {
   "cell_type": "code",
   "execution_count": 40,
   "metadata": {},
   "outputs": [
    {
     "data": {
      "text/plain": [
       "{'_tuning_objective_metric': 'validation:rmse',\n",
       " 'colsample_bytree': '0.95',\n",
       " 'eta': '0.1',\n",
       " 'feature_dim': '12',\n",
       " 'max_depth': '7',\n",
       " 'normalize_data': 'true',\n",
       " 'normalize_label': 'false',\n",
       " 'num_round': '100',\n",
       " 'predictor_type': 'classifier'}"
      ]
     },
     "execution_count": 40,
     "metadata": {},
     "output_type": "execute_result"
    }
   ],
   "source": [
    "#Extraemos los hyper-parametros del modelo\n",
    "descripcionDeEntrenamiento[\"HyperParameters\"]"
   ]
  },
  {
   "cell_type": "code",
   "execution_count": 41,
   "metadata": {},
   "outputs": [
    {
     "data": {
      "text/plain": [
       "'0.1'"
      ]
     },
     "execution_count": 41,
     "metadata": {},
     "output_type": "execute_result"
    }
   ],
   "source": [
    "#Extraemos el learning rate\n",
    "descripcionDeEntrenamiento[\"HyperParameters\"][\"eta\"]"
   ]
  }
 ],
 "metadata": {
  "kernelspec": {
   "display_name": "base",
   "language": "python",
   "name": "python3"
  },
  "language_info": {
   "codemirror_mode": {
    "name": "ipython",
    "version": 3
   },
   "file_extension": ".py",
   "mimetype": "text/x-python",
   "name": "python",
   "nbconvert_exporter": "python",
   "pygments_lexer": "ipython3",
   "version": "3.11.9"
  }
 },
 "nbformat": 4,
 "nbformat_minor": 2
}
